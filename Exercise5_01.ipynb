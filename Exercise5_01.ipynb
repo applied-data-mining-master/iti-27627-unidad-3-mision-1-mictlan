{
 "cells": [
  {
   "cell_type": "markdown",
   "metadata": {},
   "source": [
    "# Exercise 5.01: Implementing K-Means in scikit-learn\n",
    "\n",
    "In this exercise, we will be plotting a dataset in a two-dimensional plane and performing clustering on it using the k-means algorithm.\n",
    "\n",
    "The following steps will help you complete this exercise:"
   ]
  },
  {
   "cell_type": "markdown",
   "metadata": {},
   "source": [
    "1.- Create an artificial dataset as a NumPy array to demonstrate the k-means algorithm. Use following data:\n",
    "\n",
    "```\n",
    "[[1, 1], [1, 1.5], [2, 2], \\\n",
    " [8, 1], [8, 0], [8.5, 1], \\\n",
    " [6, 1], [1, 10], [1.5, 10], \\\n",
    " [1.5, 9.5], [10, 10], [1.5, 8.5]]\n",
    "```"
   ]
  },
  {
   "cell_type": "code",
   "execution_count": 1,
   "metadata": {},
   "outputs": [
    {
     "data": {
      "text/plain": [
       "array([[ 1. ,  1. ],\n",
       "       [ 1. ,  1.5],\n",
       "       [ 2. ,  2. ],\n",
       "       [ 8. ,  1. ],\n",
       "       [ 8. ,  0. ],\n",
       "       [ 8.5,  1. ],\n",
       "       [ 6. ,  1. ],\n",
       "       [ 1. , 10. ],\n",
       "       [ 1.5, 10. ],\n",
       "       [ 1.5,  9.5],\n",
       "       [10. , 10. ],\n",
       "       [ 1.5,  8.5]])"
      ]
     },
     "execution_count": 1,
     "metadata": {},
     "output_type": "execute_result"
    }
   ],
   "source": [
    "import numpy as np\n",
    "import matplotlib.pyplot as plt\n",
    "from sklearn.cluster import KMeans\n",
    "array = np.array([[1, 1], [1, 1.5], [2, 2], \\\n",
    " [8, 1], [8, 0], [8.5, 1], \\\n",
    " [6, 1], [1, 10], [1.5, 10], \\\n",
    " [1.5, 9.5], [10, 10], [1.5, 8.5]])\n",
    "array"
   ]
  },
  {
   "cell_type": "markdown",
   "metadata": {},
   "source": [
    "2.- Plot these data points in the two-dimensional plane using `matplotlib.pyplot`.\n",
    "\n",
    "Output:\n",
    "\n",
    "![Figure 5.4](img/fig5_04.jpg)\n",
    "\n",
    "  > **Hint**  \n",
    "  > Use the `transpose` array method to get the values of the first feature and the second feature. We could also use proper array indexing to access these columns: `dataPoints[:,0]`, which is equivalent to `dataPoints.transpose()[0]`."
   ]
  },
  {
   "cell_type": "code",
   "execution_count": 2,
   "metadata": {},
   "outputs": [
    {
     "data": {
      "text/plain": [
       "<function matplotlib.pyplot.show(close=None, block=None)>"
      ]
     },
     "execution_count": 2,
     "metadata": {},
     "output_type": "execute_result"
    },
    {
     "data": {
      "image/png": "[encoded data removed]",
      "text/plain": [
       "<Figure size 432x288 with 1 Axes>"
      ]
     },
     "metadata": {
      "needs_background": "light"
     },
     "output_type": "display_data"
    }
   ],
   "source": [
    "plt.scatter(array[:,0], array[:,1])\n",
    "plt.show"
   ]
  },
  {
   "cell_type": "markdown",
   "metadata": {},
   "source": [
    "3.- Define `k=3` in the k-means algorithm. We expect a cluster in the bottom-left, top-left, and bottom-right corners of the graph. \n",
    "\n",
    "  > **Hint**  \n",
    "  > Add `random_state = 8` in order to reproduce the same results"
   ]
  },
  {
   "cell_type": "code",
   "execution_count": 3,
   "metadata": {},
   "outputs": [],
   "source": [
    "kmeans = KMeans(n_clusters=3, random_state=8).fit(array)"
   ]
  },
  {
   "cell_type": "markdown",
   "metadata": {},
   "source": [
    "4.- Once the clustering is done, access the center point of each cluster.\n",
    "\n",
    "  > **Hint**  \n",
    "  > Use the `.cluster_centers_` attribute\n",
    "  \n",
    "Output:\n",
    "\n",
    "```\n",
    "array([[7.625     , 0.75      ],\n",
    "       [3.1       , 9.6       ],\n",
    "       [1.33333333, 1.5       ]])\n",
    "```"
   ]
  },
  {
   "cell_type": "code",
   "execution_count": 4,
   "metadata": {},
   "outputs": [
    {
     "data": {
      "text/plain": [
       "array([[7.625     , 0.75      ],\n",
       "       [3.1       , 9.6       ],\n",
       "       [1.33333333, 1.5       ]])"
      ]
     },
     "execution_count": 4,
     "metadata": {},
     "output_type": "execute_result"
    }
   ],
   "source": [
    "kmeans2 = kmeans.cluster_centers_\n",
    "kmeans2"
   ]
  },
  {
   "cell_type": "markdown",
   "metadata": {},
   "source": [
    "This output is showing the coordinates of the center of our three clusters. If you look back at Figure 5.4, you will see that the center points of the clusters appear to be in the bottom-left, $(1.3, 1.5)$, the top-left $(3.1, 9.6)$, and the bottom-right $(7.265, 0.75)$ corners of the graph. The x coordinate of the top-left cluster is $3.1$, most likely because it contains our outlier data point at $[10, 10]$."
   ]
  },
  {
   "cell_type": "markdown",
   "metadata": {},
   "source": [
    "5.- Find out which data point belongs to which cluster, we must query the `labels_` property of the k-means classifier.\n",
    "\n",
    "Output:\n",
    "\n",
    "```\n",
    "array([2, 2, 2, 0, 0, 0, 0, 1, 1, 1, 1, 1], dtype=int32)\n",
    "```"
   ]
  },
  {
   "cell_type": "code",
   "execution_count": 5,
   "metadata": {},
   "outputs": [
    {
     "data": {
      "text/plain": [
       "array([2, 2, 2, 0, 0, 0, 0, 1, 1, 1, 1, 1])"
      ]
     },
     "execution_count": 5,
     "metadata": {},
     "output_type": "execute_result"
    }
   ],
   "source": [
    "kmeans3 = kmeans.labels_\n",
    "kmeans3"
   ]
  },
  {
   "cell_type": "markdown",
   "metadata": {},
   "source": [
    "6.- Plot the data.\n",
    "\n",
    "Output:\n",
    "\n",
    "![Figure 5.5](img/fig5_05.jpg)"
   ]
  },
  {
   "cell_type": "code",
   "execution_count": 6,
   "metadata": {},
   "outputs": [
    {
     "data": {
      "image/png": "[encoded data removed]",
      "text/plain": [
       "<Figure size 432x288 with 1 Axes>"
      ]
     },
     "metadata": {
      "needs_background": "light"
     },
     "output_type": "display_data"
    }
   ],
   "source": [
    "plt.scatter(\n",
    "    kmeans2[:,0], kmeans2[:,1]\n",
    ")\n",
    "for i in range(len(array)):\n",
    "    plt.plot(\n",
    "        array[i][0],\n",
    "        array[i][1],\n",
    "        ['k+','kx','k_'][kmeans3[i]]  \n",
    "    )\n",
    "plt.show()"
   ]
  },
  {
   "cell_type": "markdown",
   "metadata": {},
   "source": [
    "we used the matplotlib library to plot the data points with the center of each coordinate. Each cluster has its marker (x, +, and -), and its center is represented by a filled circle."
   ]
  },
  {
   "cell_type": "markdown",
   "metadata": {},
   "source": [
    "7.-  Reuse the same code and choose only two clusters instead of three.\n",
    "\n",
    "Output:\n",
    "\n",
    "![Figure 5.6](img/fig5_06.jpg)"
   ]
  },
  {
   "cell_type": "code",
   "execution_count": 7,
   "metadata": {},
   "outputs": [
    {
     "data": {
      "image/png": "[encoded data removed]",
      "text/plain": [
       "<Figure size 432x288 with 1 Axes>"
      ]
     },
     "metadata": {
      "needs_background": "light"
     },
     "output_type": "display_data"
    }
   ],
   "source": [
    "kmeans = KMeans(n_clusters=2, random_state=8).fit(array)\n",
    "kmeans2 = kmeans.cluster_centers_\n",
    "kmeans3 = kmeans.labels_\n",
    "plt.scatter(\n",
    "    kmeans2[:,0], kmeans2[:,1]\n",
    ")\n",
    "for i in range(len(array)):\n",
    "    plt.plot(\n",
    "        array[i][0],\n",
    "        array[i][1],\n",
    "        ['k+','kx'][kmeans3[i]]  \n",
    "    )\n",
    "plt.show()"
   ]
  },
  {
   "cell_type": "markdown",
   "metadata": {},
   "source": [
    "This time, we only have x and + points, and we can clearly see a bottom cluster and a top cluster. Interestingly, the top cluster in the second try contains the same points as the top cluster in the first try. The bottom cluster of the second try consists of the data points joining the bottom-left and the bottom-right clusters of the first try."
   ]
  },
  {
   "cell_type": "markdown",
   "metadata": {},
   "source": [
    "8.- Use the k-means model to predict the label of new data points $[[5, 5], [0, 10]]$. The output will be an array containing the cluster numbers belonging to each data point.\n",
    "\n",
    "Output\n",
    "\n",
    "```\n",
    "array([0, 1], dtype=int32)\n",
    "```"
   ]
  },
  {
   "cell_type": "code",
   "execution_count": 8,
   "metadata": {},
   "outputs": [
    {
     "data": {
      "text/plain": [
       "array([0, 1])"
      ]
     },
     "execution_count": 8,
     "metadata": {},
     "output_type": "execute_result"
    }
   ],
   "source": [
    "predict = kmeans.predict([[5,5],[0,10]])\n",
    "predict"
   ]
  },
  {
   "cell_type": "markdown",
   "metadata": {},
   "source": [
    "This means that our first point belongs to the first cluster (at the bottom) and the second point belongs to the second cluster (at the top)."
   ]
  },
  {
   "cell_type": "code",
   "execution_count": null,
   "metadata": {},
   "outputs": [],
   "source": []
  }
 ],
 "metadata": {
  "kernelspec": {
   "display_name": "Python 3",
   "language": "python",
   "name": "python3"
  },
  "language_info": {
   "codemirror_mode": {
    "name": "ipython",
    "version": 3
   },
   "file_extension": ".py",
   "mimetype": "text/x-python",
   "name": "python",
   "nbconvert_exporter": "python",
   "pygments_lexer": "ipython3",
   "version": "3.8.5"
  }
 },
 "nbformat": 4,
 "nbformat_minor": 4
}
