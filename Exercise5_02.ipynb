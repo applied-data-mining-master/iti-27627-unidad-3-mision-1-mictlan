{
 "cells": [
  {
   "cell_type": "markdown",
   "metadata": {},
   "source": [
    "# Exercise 5.02: Retrieving the Center Points and the Labels\n",
    "\n",
    "In this exercise, you will be able to understand the usage of `cluster_centers_` and `labels_`.\n",
    "\n",
    "The following steps will help you complete the exercise:"
   ]
  },
  {
   "cell_type": "markdown",
   "metadata": {},
   "source": [
    "1.- Create the same 12 data points from Exercise 5.01,  but here, perform k-means clustering with four clusters, then show the cluster centers using the `.cluster_centers_` attribute.\n",
    "\n",
    "Output:\n",
    "\n",
    "```\n",
    "array([[ 7.625     ,  0.75      ],\n",
    "       [ 1.375     ,  9.5       ],\n",
    "       [ 1.33333333,  1.5       ],\n",
    "       [10.        , 10.        ]])\n",
    "```"
   ]
  },
  {
   "cell_type": "code",
   "execution_count": 1,
   "metadata": {},
   "outputs": [
    {
     "data": {
      "text/plain": [
       "array([[ 7.625     ,  0.75      ],\n",
       "       [ 1.375     ,  9.5       ],\n",
       "       [ 1.33333333,  1.5       ],\n",
       "       [10.        , 10.        ]])"
      ]
     },
     "execution_count": 1,
     "metadata": {},
     "output_type": "execute_result"
    }
   ],
   "source": [
    "import numpy as np\n",
    "import matplotlib.pyplot as plt\n",
    "from sklearn.cluster import KMeans\n",
    "array = np.array([[1, 1], [1, 1.5], [2, 2], \\\n",
    " [8, 1], [8, 0], [8.5, 1], \\\n",
    " [6, 1], [1, 10], [1.5, 10], \\\n",
    " [1.5, 9.5], [10, 10], [1.5, 8.5]])\n",
    "kmeans = KMeans(n_clusters=4, random_state=8).fit(array)\n",
    "kmeans.cluster_centers_"
   ]
  },
  {
   "cell_type": "markdown",
   "metadata": {},
   "source": [
    "The output of the `cluster_centers_` property shows the x and y coordinates of the center points.\n",
    "\n",
    "From the output, we can see the 4 centers, which are bottom right $(7.6, 0.75)$, top left $(1.3, 9.5)$, bottom left $(1.3, 1.5)$, and top right $(10, 10)$. We can also note that the fourth cluster (the top-right cluster) is only made of a single data point. This data point can be assumed to be an **outlier**."
   ]
  },
  {
   "cell_type": "markdown",
   "metadata": {},
   "source": [
    "2.- Get the labels using `.labels_`:\n",
    "\n",
    "Output\n",
    "\n",
    "```\n",
    "array([2, 2, 2, 0, 0, 0, 0, 1, 1, 1, 3, 1], dtype=int32)\n",
    "```"
   ]
  },
  {
   "cell_type": "code",
   "execution_count": 2,
   "metadata": {},
   "outputs": [
    {
     "data": {
      "text/plain": [
       "array([2, 2, 2, 0, 0, 0, 0, 1, 1, 1, 3, 1])"
      ]
     },
     "execution_count": 2,
     "metadata": {},
     "output_type": "execute_result"
    }
   ],
   "source": [
    "kmeans3 = kmeans.labels_\n",
    "kmeans3"
   ]
  },
  {
   "cell_type": "markdown",
   "metadata": {},
   "source": [
    "The `labels_` property is an array of length 12, showing the cluster of each of the 12 data points it belongs to. The first cluster is associated with the number 0, the second is associated with 1, the third is associated with 2, and so on (remember that Python indexes always start from 0 and not 1)."
   ]
  }
 ],
 "metadata": {
  "kernelspec": {
   "display_name": "Python 3",
   "language": "python",
   "name": "python3"
  },
  "language_info": {
   "codemirror_mode": {
    "name": "ipython",
    "version": 3
   },
   "file_extension": ".py",
   "mimetype": "text/x-python",
   "name": "python",
   "nbconvert_exporter": "python",
   "pygments_lexer": "ipython3",
   "version": "3.8.5"
  }
 },
 "nbformat": 4,
 "nbformat_minor": 4
}
